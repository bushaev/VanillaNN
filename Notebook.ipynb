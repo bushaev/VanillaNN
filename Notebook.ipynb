{
 "cells": [
  {
   "cell_type": "code",
   "execution_count": 29,
   "metadata": {
    "collapsed": true
   },
   "outputs": [],
   "source": [
    "from mnist import MNIST\n",
    "import numpy as np\n",
    "import pandas as pd\n",
    "import matplotlib.pyplot as plt\n",
    "import seaborn as sns\n",
    "from network import *\n",
    "from activations import *\n",
    "from utils import *\n",
    "%matplotlib inline"
   ]
  },
  {
   "cell_type": "code",
   "execution_count": 2,
   "metadata": {
    "collapsed": true
   },
   "outputs": [],
   "source": [
    "mdata =MNIST('mnist')\n",
    "images, labels = mdata.load_training()\n",
    "imgs = np.array(images)\n",
    "lbls = np.array(labels)"
   ]
  },
  {
   "cell_type": "code",
   "execution_count": 8,
   "metadata": {},
   "outputs": [
    {
     "data": {
      "text/plain": [
       "9"
      ]
     },
     "execution_count": 8,
     "metadata": {},
     "output_type": "execute_result"
    },
    {
     "data": {
      "image/png": "[encoded data removed]",
      "text/plain": [
       "<matplotlib.figure.Figure at 0x7f437deb9470>"
      ]
     },
     "metadata": {},
     "output_type": "display_data"
    }
   ],
   "source": [
    "ind = 4\n",
    "im = np.array(images[ind], dtype=np.uint8)\n",
    "im = im.reshape((28, 28))\n",
    "plt.imshow(im, cmap='gray')\n",
    "labels[ind]"
   ]
  },
  {
   "cell_type": "code",
   "execution_count": 9,
   "metadata": {
    "collapsed": true
   },
   "outputs": [],
   "source": [
    "layers = [784, 100, 10]\n",
    "model = ClassificationNetwork(layers)"
   ]
  },
  {
   "cell_type": "code",
   "execution_count": 10,
   "metadata": {
    "collapsed": true
   },
   "outputs": [],
   "source": [
    "X = imgs[:20]\n",
    "y = lbls[:20]"
   ]
  },
  {
   "cell_type": "code",
   "execution_count": 34,
   "metadata": {},
   "outputs": [
    {
     "data": {
      "text/plain": [
       "13.662251370909555"
      ]
     },
     "execution_count": 34,
     "metadata": {},
     "output_type": "execute_result"
    }
   ],
   "source": [
    "(-one_hot(y, 10) * np.log(model.forward(X).T)).sum()"
   ]
  },
  {
   "cell_type": "code",
   "execution_count": 30,
   "metadata": {},
   "outputs": [
    {
     "data": {
      "text/plain": [
       "array([[ 0.36286173,  0.33366329,  0.6103997 ,  0.6460355 ,  0.69645492,\n",
       "         0.67244247,  0.33845079,  0.86724409,  0.68967872,  0.39828161],\n",
       "       [ 0.4793561 ,  0.48468209,  0.58451853,  0.54528867,  0.64826664,\n",
       "         0.4853824 ,  0.3605966 ,  0.7298627 ,  0.62152784,  0.24689799],\n",
       "       [ 0.595519  ,  0.53354923,  0.68782245,  0.75669328,  0.53297612,\n",
       "         0.37896294,  0.19609238,  0.91524909,  0.58667164,  0.60094077],\n",
       "       [ 0.30980584,  0.44330247,  0.68582073,  0.5481385 ,  0.53937494,\n",
       "         0.50673931,  0.19014145,  0.88150689,  0.60190569,  0.2901234 ],\n",
       "       [ 0.30355035,  0.47184224,  0.62830575,  0.667946  ,  0.27006879,\n",
       "         0.54645116,  0.12501149,  0.85206979,  0.65683203,  0.496301  ],\n",
       "       [ 0.33662586,  0.40422025,  0.64399051,  0.6668058 ,  0.66568059,\n",
       "         0.54667316,  0.17917433,  0.83171938,  0.57956538,  0.39290362],\n",
       "       [ 0.31928269,  0.5155936 ,  0.66755876,  0.63809026,  0.55809768,\n",
       "         0.55851248,  0.193049  ,  0.88274752,  0.79155191,  0.57199414],\n",
       "       [ 0.55119329,  0.58269982,  0.64637351,  0.61017225,  0.39469638,\n",
       "         0.7911676 ,  0.15105259,  0.83515804,  0.80379575,  0.24179369],\n",
       "       [ 0.29580153,  0.52232314,  0.56771458,  0.68660529,  0.52469514,\n",
       "         0.42489243,  0.24501559,  0.86774998,  0.83515762,  0.49194728],\n",
       "       [ 0.48529511,  0.51412144,  0.75946677,  0.55024707,  0.38465674,\n",
       "         0.70475697,  0.21581698,  0.90648153,  0.57363155,  0.59824621],\n",
       "       [ 0.36014194,  0.53978792,  0.67438846,  0.6704546 ,  0.47859825,\n",
       "         0.76254216,  0.11152314,  0.80699422,  0.71804454,  0.47368999],\n",
       "       [ 0.2677845 ,  0.56348723,  0.63043168,  0.61664256,  0.32300435,\n",
       "         0.41179206,  0.19262379,  0.88241901,  0.78722287,  0.2647187 ],\n",
       "       [ 0.24151932,  0.51485065,  0.57870194,  0.68487735,  0.61960532,\n",
       "         0.57903413,  0.15700108,  0.79444214,  0.76252562,  0.44723072],\n",
       "       [ 0.5392785 ,  0.51725636,  0.64801789,  0.5628165 ,  0.45581087,\n",
       "         0.67930943,  0.25417576,  0.9264569 ,  0.65126407,  0.32048418],\n",
       "       [ 0.32021356,  0.65847135,  0.6843282 ,  0.76436605,  0.47029375,\n",
       "         0.5239529 ,  0.24094406,  0.84039585,  0.84734569,  0.48779861],\n",
       "       [ 0.28009879,  0.49030685,  0.58910849,  0.73788797,  0.73285015,\n",
       "         0.5349431 ,  0.2195956 ,  0.88385234,  0.67271968,  0.38916043],\n",
       "       [ 0.44136632,  0.29621415,  0.67764842,  0.63853945,  0.55523361,\n",
       "         0.62323582,  0.22642331,  0.91512331,  0.63631361,  0.38908309],\n",
       "       [ 0.52113048,  0.48510399,  0.69881056,  0.66368244,  0.34920553,\n",
       "         0.5324359 ,  0.19936075,  0.93198509,  0.68304347,  0.39306451],\n",
       "       [ 0.27264852,  0.26862065,  0.69249968,  0.7596409 ,  0.69712016,\n",
       "         0.49434104,  0.14977634,  0.82702067,  0.65860888,  0.47106333],\n",
       "       [ 0.34328153,  0.53371652,  0.5367876 ,  0.74130072,  0.5671116 ,\n",
       "         0.62552568,  0.20366366,  0.88336758,  0.44333777,  0.39069176]])"
      ]
     },
     "execution_count": 30,
     "metadata": {},
     "output_type": "execute_result"
    }
   ],
   "source": [
    "model.forward(X).T"
   ]
  },
  {
   "cell_type": "code",
   "execution_count": 25,
   "metadata": {},
   "outputs": [
    {
     "data": {
      "text/plain": [
       "array([ 0.08069263,  0.0783706 ,  0.10335661,  0.10710622,  0.1126449 ,\n",
       "        0.10997224,  0.07874669,  0.13362396,  0.11188418,  0.08360197])"
      ]
     },
     "execution_count": 25,
     "metadata": {},
     "output_type": "execute_result"
    }
   ],
   "source": [
    "z = np.exp(model.forward(X))\n",
    "(z / np.sum(z, axis=0))[:, 0]"
   ]
  },
  {
   "cell_type": "code",
   "execution_count": 39,
   "metadata": {},
   "outputs": [],
   "source": [
    "def f(a):\n",
    "    print (type(a) == list)"
   ]
  },
  {
   "cell_type": "code",
   "execution_count": 40,
   "metadata": {},
   "outputs": [
    {
     "name": "stdout",
     "output_type": "stream",
     "text": [
      "True\n"
     ]
    }
   ],
   "source": [
    "f([])"
   ]
  },
  {
   "cell_type": "code",
   "execution_count": null,
   "metadata": {
    "collapsed": true
   },
   "outputs": [],
   "source": []
  }
 ],
 "metadata": {
  "kernelspec": {
   "display_name": "Python 3",
   "language": "python",
   "name": "python3"
  },
  "language_info": {
   "codemirror_mode": {
    "name": "ipython",
    "version": 3
   },
   "file_extension": ".py",
   "mimetype": "text/x-python",
   "name": "python",
   "nbconvert_exporter": "python",
   "pygments_lexer": "ipython3",
   "version": "3.6.3"
  }
 },
 "nbformat": 4,
 "nbformat_minor": 2
}
